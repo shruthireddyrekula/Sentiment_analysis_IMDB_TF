{
  "cells": [
    {
      "cell_type": "markdown",
      "metadata": {
        "id": "view-in-github",
        "colab_type": "text"
      },
      "source": [
        "<a href=\"https://colab.research.google.com/github/shruthireddyrekula/Sentiment_analysis_IMDB_TF/blob/main/IMDB_Review_Transformer_TF.ipynb\" target=\"_parent\"><img src=\"https://colab.research.google.com/assets/colab-badge.svg\" alt=\"Open In Colab\"/></a>"
      ]
    },
    {
      "cell_type": "markdown",
      "metadata": {
        "id": "Rp01gB_EuerB"
      },
      "source": []
    },
    {
      "cell_type": "code",
      "execution_count": null,
      "metadata": {
        "id": "iF-nQNBp4Fgx"
      },
      "outputs": [],
      "source": [
        "pip install transformers\n"
      ]
    },
    {
      "cell_type": "code",
      "execution_count": null,
      "metadata": {
        "id": "q-W2rJai4K0A"
      },
      "outputs": [],
      "source": [
        "import tensorflow_datasets as tfds\n",
        "\n",
        "(train_data, test_data), info = tfds.load(\n",
        "    'imdb_reviews',\n",
        "    split=(tfds.Split.TRAIN, tfds.Split.TEST),\n",
        "    as_supervised=True,\n",
        "    with_info=True\n",
        ")"
      ]
    },
    {
      "cell_type": "code",
      "execution_count": null,
      "metadata": {
        "colab": {
          "background_save": true
        },
        "id": "2CXPZ6DW4Yj5"
      },
      "outputs": [],
      "source": [
        "from transformers import BertTokenizer\n",
        "\n",
        "tokenizer = BertTokenizer.from_pretrained('bert-base-uncased')\n",
        "\n",
        "def tokenize_data(sentences, tokenizer, max_length):\n",
        "    return tokenizer(sentences, truncation=True, padding='max_length', max_length=max_length, return_tensors=\"tf\")\n",
        "\n",
        "train_tokens = tokenize_data([s.numpy().decode('utf8') for s, l in train_data], tokenizer, 256)\n",
        "test_tokens = tokenize_data([s.numpy().decode('utf8') for s, l in test_data], tokenizer, 256)"
      ]
    },
    {
      "cell_type": "code",
      "execution_count": null,
      "metadata": {
        "colab": {
          "background_save": true
        },
        "id": "4SvLMPq54nHb"
      },
      "outputs": [],
      "source": [
        "from transformers import TFBertModel\n",
        "import tensorflow as tf\n",
        "\n",
        "def build_model(transformer, max_length):\n",
        "    input_word_ids = tf.keras.Input(shape=(max_length,), dtype=tf.int32, name=\"input_word_ids\")\n",
        "    sequence_output = transformer(input_word_ids)[0]\n",
        "    cls_token = sequence_output[:, 0, :]\n",
        "    out = tf.keras.layers.Dense(1, activation='sigmoid')(cls_token)\n",
        "\n",
        "    model = tf.keras.Model(inputs=input_word_ids, outputs=out)\n",
        "    model.compile(tf.keras.optimizers.Adam(learning_rate=1e-5), loss='binary_crossentropy', metrics=['accuracy'])\n",
        "\n",
        "    return model\n",
        "\n",
        "transformer_layer = TFBertModel.from_pretrained('bert-base-uncased')\n",
        "model = build_model(transformer_layer, 256)"
      ]
    },
    {
      "cell_type": "code",
      "execution_count": null,
      "metadata": {
        "colab": {
          "background_save": true
        },
        "id": "Ky1Yb91n6cxN"
      },
      "outputs": [],
      "source": [
        "train_labels = [l.numpy() for s, l in train_data]\n",
        "test_labels = [l.numpy() for s, l in test_data]\n",
        "train_labels_tensor = tf.convert_to_tensor(train_labels)\n",
        "test_labels_tensor = tf.convert_to_tensor(test_labels)\n",
        "history = model.fit(train_tokens['input_ids'], train_labels_tensor, validation_data=(test_tokens['input_ids'], test_labels_tensor), batch_size=12, epochs=10,verbose=2)"
      ]
    },
    {
      "cell_type": "code",
      "execution_count": null,
      "metadata": {
        "id": "q9QKiJ166lGA"
      },
      "outputs": [],
      "source": [
        "model.evaluate(test_tokens['input_ids'], test_labels_tensor)"
      ]
    }
  ],
  "metadata": {
    "accelerator": "TPU",
    "colab": {
      "provenance": [],
      "include_colab_link": true
    },
    "kernelspec": {
      "display_name": "Python 3",
      "name": "python3"
    },
    "language_info": {
      "name": "python"
    }
  },
  "nbformat": 4,
  "nbformat_minor": 0
}